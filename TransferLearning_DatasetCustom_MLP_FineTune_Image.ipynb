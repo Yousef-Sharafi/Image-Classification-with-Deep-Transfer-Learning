{
  "nbformat": 4,
  "nbformat_minor": 0,
  "metadata": {
    "colab": {
      "provenance": []
    },
    "kernelspec": {
      "name": "python3",
      "display_name": "Python 3"
    },
    "language_info": {
      "name": "python"
    }
  },
  "cells": [
    {
      "cell_type": "code",
      "execution_count": null,
      "metadata": {
        "id": "7VrWKMXIzKkJ"
      },
      "outputs": [],
      "source": [
        "!unzip /content/drive/MyDrive/datasetCatDog.zip -d /content/drive/MyDrive/datasetCD"
      ]
    },
    {
      "cell_type": "code",
      "source": [
        "import os\n",
        "import torch\n",
        "import torchvision\n",
        "from torchvision import transforms\n",
        "from torch.utils.data import DataLoader\n",
        "import pandas as pd\n",
        "\n",
        "# Define data transformations\n",
        "data_transform = transforms.Compose([\n",
        "    transforms.Resize((224, 224)),\n",
        "    transforms.ToTensor(),\n",
        "    transforms.Normalize(mean=[0.485, 0.456, 0.406],\n",
        "                         std=[0.229, 0.224, 0.225])\n",
        "])\n",
        "\n",
        "# Load dataset\n",
        "dataset = torchvision.datasets.ImageFolder(root=\"/content/drive/MyDrive/datasetCD\", transform=data_transform)\n",
        "\n",
        "# Define data loader\n",
        "batch_size = 32\n",
        "data_loader = DataLoader(dataset, batch_size=batch_size, shuffle=False)\n",
        "\n",
        "# Load pre-trained ResNet50 model\n",
        "model = torchvision.models.resnet50(pretrained=True)\n",
        "# Remove the last fully connected layer\n",
        "model = torch.nn.Sequential(*list(model.children())[:-1])\n",
        "# Set model to evaluation mode\n",
        "model.eval()\n",
        "\n",
        "# Device configuration\n",
        "device = torch.device('cuda' if torch.cuda.is_available() else 'cpu')\n",
        "\n",
        "# Extract features and labels\n",
        "features_list = []\n",
        "labels_list = []\n",
        "\n",
        "with torch.no_grad():\n",
        "    for images, labels in data_loader:\n",
        "        images = images.to(device)\n",
        "        features = model(images)\n",
        "        features_list.append(features.cpu().numpy())\n",
        "        labels_list.append(labels.numpy())\n",
        "\n",
        "# Concatenate features and labels\n",
        "features = torch.from_numpy(np.concatenate(features_list))\n",
        "labels = torch.from_numpy(np.concatenate(labels_list))\n",
        "\n",
        "# Flatten features\n",
        "features = features.view(features.size(0), -1)\n",
        "\n",
        "# Create pandas DataFrame\n",
        "df = pd.DataFrame(features.numpy())\n",
        "\n",
        "# Get folder names to assign labels (0 for 'cat' and 1 for 'dog')\n",
        "folder_names = dataset.classes\n",
        "# Assign numerical labels based on folder names\n",
        "numerical_labels = [0 if folder == 'cat' else 1 for folder in folder_names]\n",
        "# Assign labels to the DataFrame\n",
        "df['label'] = [numerical_labels[label] for label in labels]\n",
        "\n",
        "# Save DataFrame to Excel\n",
        "df.to_excel('cat_dog_dataset.xlsx', index=False)\n"
      ],
      "metadata": {
        "colab": {
          "base_uri": "https://localhost:8080/"
        },
        "id": "AHwjXDxUzyPD",
        "outputId": "ef703638-c8b3-40d9-8b55-bcea7c9b200b"
      },
      "execution_count": null,
      "outputs": [
        {
          "output_type": "stream",
          "name": "stderr",
          "text": [
            "/usr/local/lib/python3.10/dist-packages/torchvision/models/_utils.py:208: UserWarning: The parameter 'pretrained' is deprecated since 0.13 and may be removed in the future, please use 'weights' instead.\n",
            "  warnings.warn(\n",
            "/usr/local/lib/python3.10/dist-packages/torchvision/models/_utils.py:223: UserWarning: Arguments other than a weight enum or `None` for 'weights' are deprecated since 0.13 and may be removed in the future. The current behavior is equivalent to passing `weights=ResNet50_Weights.IMAGENET1K_V1`. You can also use `weights=ResNet50_Weights.DEFAULT` to get the most up-to-date weights.\n",
            "  warnings.warn(msg)\n",
            "\n",
            "KeyboardInterrupt\n",
            "\n"
          ]
        }
      ]
    },
    {
      "cell_type": "code",
      "source": [
        "import pandas as pd\n",
        "import torch\n",
        "import torch.nn as nn\n",
        "import torch.optim as optim\n",
        "from sklearn.metrics import confusion_matrix, accuracy_score\n",
        "from sklearn.model_selection import train_test_split\n",
        "import numpy as np\n",
        "import matplotlib.pyplot as plt\n",
        "\n",
        "# Load Iris dataset from Excel file\n",
        "data_df = pd.read_excel('/content/cat_dog_dataset.xlsx')\n",
        "X = data_df.iloc[:, :-1].values\n",
        "y = data_df.iloc[:, -1].values\n",
        "\n",
        "\n",
        "print(X.shape)\n",
        "print(y.shape)\n",
        "\n",
        "print(X)\n",
        "print(y)\n",
        "\n"
      ],
      "metadata": {
        "colab": {
          "base_uri": "https://localhost:8080/"
        },
        "id": "A5QaPtoD-XmY",
        "outputId": "6e8583d1-9d48-46df-b6b1-bdb074fc4964"
      },
      "execution_count": null,
      "outputs": [
        {
          "output_type": "stream",
          "name": "stdout",
          "text": [
            "(360, 2048)\n",
            "(360,)\n",
            "[[0.06106509 0.02638969 0.1190898  ... 0.02569872 0.10397575 0.21655731]\n",
            " [0.39118677 0.08393306 0.08452165 ... 0.00591226 0.06135178 0.06524978]\n",
            " [0.5040856  0.08885247 0.31982484 ... 0.19956131 0.41419673 0.30543208]\n",
            " ...\n",
            " [0.57300925 0.49868721 0.52697837 ... 0.92552614 0.47917277 0.10091635]\n",
            " [0.12977669 0.3750518  0.09129635 ... 0.07182824 0.20655768 0.4405556 ]\n",
            " [0.85971528 0.12490003 0.36812925 ... 0.4222621  0.09254449 0.18261674]]\n",
            "[0 0 0 0 0 0 0 0 0 0 0 0 0 0 0 0 0 0 0 0 0 0 0 0 0 0 0 0 0 0 0 0 0 0 0 0 0\n",
            " 0 0 0 0 0 0 0 0 0 0 0 0 0 0 0 0 0 0 0 0 0 0 0 0 0 0 0 0 0 0 0 0 0 0 0 0 0\n",
            " 0 0 0 0 0 0 0 0 0 0 0 0 0 0 0 0 0 0 0 0 0 0 0 0 0 0 0 0 0 0 0 0 0 0 0 0 0\n",
            " 0 0 0 0 0 0 0 0 0 0 0 0 0 0 0 0 0 0 0 0 0 0 0 0 0 0 0 0 0 0 0 0 0 0 0 0 0\n",
            " 0 0 0 0 0 0 0 0 0 0 0 0 0 0 0 0 0 0 0 0 0 0 0 0 0 0 0 0 0 0 0 0 1 1 1 1 1\n",
            " 1 1 1 1 1 1 1 1 1 1 1 1 1 1 1 1 1 1 1 1 1 1 1 1 1 1 1 1 1 1 1 1 1 1 1 1 1\n",
            " 1 1 1 1 1 1 1 1 1 1 1 1 1 1 1 1 1 1 1 1 1 1 1 1 1 1 1 1 1 1 1 1 1 1 1 1 1\n",
            " 1 1 1 1 1 1 1 1 1 1 1 1 1 1 1 1 1 1 1 1 1 1 1 1 1 1 1 1 1 1 1 1 1 1 1 1 1\n",
            " 1 1 1 1 1 1 1 1 1 1 1 1 1 1 1 1 1 1 1 1 1 1 1 1 1 1 1 1 1 1 1 1 1 1 1 1 1\n",
            " 1 1 1 1 1 1 1 1 1 1 1 1 1 1 1 1 1 1 1 1 1 1 1 1 1 1 1]\n"
          ]
        }
      ]
    },
    {
      "cell_type": "code",
      "execution_count": null,
      "metadata": {
        "colab": {
          "base_uri": "https://localhost:8080/",
          "height": 1000
        },
        "id": "OOo8fdFmfGBG",
        "outputId": "e86ee64d-92c1-4897-a459-51b6df54f9b9"
      },
      "outputs": [
        {
          "output_type": "stream",
          "name": "stdout",
          "text": [
            "(360, 2048)\n",
            "(360,)\n",
            "Epoch [50/1000], Loss: 0.3134\n",
            "Epoch [100/1000], Loss: 0.3133\n",
            "Epoch [150/1000], Loss: 0.3133\n",
            "Epoch [200/1000], Loss: 0.3133\n",
            "Epoch [250/1000], Loss: 0.3133\n",
            "Epoch [300/1000], Loss: 0.3133\n",
            "Epoch [350/1000], Loss: 0.3133\n",
            "Epoch [400/1000], Loss: 0.3133\n",
            "Epoch [450/1000], Loss: 0.3133\n",
            "Epoch [500/1000], Loss: 0.3133\n",
            "Epoch [550/1000], Loss: 0.3133\n",
            "Epoch [600/1000], Loss: 0.3133\n",
            "Epoch [650/1000], Loss: 0.3133\n",
            "Epoch [700/1000], Loss: 0.3133\n",
            "Epoch [750/1000], Loss: 0.3133\n",
            "Epoch [800/1000], Loss: 0.3133\n",
            "Epoch [850/1000], Loss: 0.3133\n",
            "Epoch [900/1000], Loss: 0.3133\n",
            "Epoch [950/1000], Loss: 0.3133\n",
            "Epoch [1000/1000], Loss: 0.3133\n"
          ]
        },
        {
          "output_type": "display_data",
          "data": {
            "text/plain": [
              "<Figure size 640x480 with 1 Axes>"
            ],
            "image/png": "[encoded data removed]"
          },
          "metadata": {}
        },
        {
          "output_type": "stream",
          "name": "stdout",
          "text": [
            "Training Confusion Matrix:\n",
            "[[143   0]\n",
            " [  0 145]]\n",
            "Training Accuracy: 1.0\n",
            "\n",
            "Testing Confusion Matrix:\n",
            "[[37  0]\n",
            " [ 0 35]]\n",
            "Testing Accuracy: 1.0\n"
          ]
        }
      ],
      "source": [
        "import pandas as pd\n",
        "import torch\n",
        "import torch.nn as nn\n",
        "import torch.optim as optim\n",
        "from sklearn.metrics import confusion_matrix, accuracy_score\n",
        "from sklearn.model_selection import train_test_split\n",
        "import numpy as np\n",
        "import matplotlib.pyplot as plt\n",
        "from sklearn.preprocessing import MinMaxScaler\n",
        "\n",
        "# Load dataset from Excel file\n",
        "data_df = pd.read_excel('/content/cat_dog_dataset.xlsx')\n",
        "X = data_df.iloc[:, :-1].values\n",
        "y = data_df.iloc[:, -1].values\n",
        "\n",
        "# Apply Min-Max scaling\n",
        "print(X.shape)\n",
        "print(y.shape)\n",
        "\n",
        "# Apply Min-Max scaling\n",
        "scaler = MinMaxScaler()\n",
        "X_scaled = scaler.fit_transform(X)\n",
        "\n",
        "# Convert numpy arrays to PyTorch tensors\n",
        "X_tensor = torch.tensor(X_scaled, dtype=torch.float32)\n",
        "y_tensor = torch.tensor(y, dtype=torch.long)\n",
        "\n",
        "# Split data into training and testing sets\n",
        "X_train, X_test, y_train, y_test = train_test_split(X_tensor, y_tensor, test_size=0.2, random_state=42)\n",
        "\n",
        "# Define MLP architecture\n",
        "class MLP(nn.Module):\n",
        "    def __init__(self, input_size, hidden_size1, hidden_size2, output_size):\n",
        "        super(MLP, self).__init__()\n",
        "        self.fc1 = nn.Linear(input_size, hidden_size1)\n",
        "        self.fc2 = nn.Linear(hidden_size1, hidden_size2)\n",
        "        self.fc3 = nn.Linear(hidden_size2, output_size)\n",
        "\n",
        "    def forward(self, x):\n",
        "        x = torch.relu(self.fc1(x))\n",
        "        x = torch.relu(self.fc2(x))\n",
        "        x = self.fc3(x)\n",
        "        return torch.softmax(x, dim=1)  # Apply softmax activation for multi-class classification\n",
        "\n",
        "# Define training function\n",
        "def train(model, criterion, optimizer, X_train, y_train, num_epochs=100):\n",
        "    train_losses = []\n",
        "\n",
        "    for epoch in range(num_epochs):\n",
        "        optimizer.zero_grad()\n",
        "        outputs = model(X_train)\n",
        "        loss = criterion(outputs, y_train)\n",
        "        loss.backward()\n",
        "        optimizer.step()\n",
        "        train_losses.append(loss.item())\n",
        "\n",
        "        if (epoch+1) % 50 == 0:\n",
        "            print(f'Epoch [{epoch+1}/{num_epochs}], Loss: {loss.item():.4f}')\n",
        "\n",
        "    return train_losses\n",
        "\n",
        "# Initialize the model, loss function, and optimizer\n",
        "input_size = 2048\n",
        "hidden_size1 = 100\n",
        "hidden_size2 = 50\n",
        "output_size = 2\n",
        "model = MLP(input_size, hidden_size1, hidden_size2, output_size)\n",
        "criterion = nn.CrossEntropyLoss()\n",
        "optimizer = optim.Adam(model.parameters(), lr=0.001)\n",
        "\n",
        "# Train the model\n",
        "train_losses = train(model, criterion, optimizer, X_train, y_train, num_epochs=1000)\n",
        "\n",
        "# Plot the training curve\n",
        "plt.plot(train_losses)\n",
        "plt.xlabel('Epochs')\n",
        "plt.ylabel('Loss')\n",
        "plt.title('Training Curve')\n",
        "plt.show()\n",
        "\n",
        "# Predict classes for training set\n",
        "with torch.no_grad():\n",
        "    train_outputs = model(X_train)\n",
        "    _, train_predicted = torch.max(train_outputs, 1)\n",
        "\n",
        "# Calculate confusion matrix and accuracy for training set\n",
        "train_cm = confusion_matrix(y_train.numpy(), train_predicted.numpy())\n",
        "train_accuracy = accuracy_score(y_train.numpy(), train_predicted.numpy())\n",
        "\n",
        "print(\"Training Confusion Matrix:\")\n",
        "print(train_cm)\n",
        "print(\"Training Accuracy:\", train_accuracy)\n",
        "\n",
        "# Predict classes for test set\n",
        "with torch.no_grad():\n",
        "    test_outputs = model(X_test)\n",
        "    _, test_predicted = torch.max(test_outputs, 1)\n",
        "\n",
        "# Calculate confusion matrix and accuracy for test set\n",
        "test_cm = confusion_matrix(y_test.numpy(), test_predicted.numpy())\n",
        "test_accuracy = accuracy_score(y_test.numpy(), test_predicted.numpy())\n",
        "\n",
        "print(\"\\nTesting Confusion Matrix:\")\n",
        "print(test_cm)\n",
        "print(\"Testing Accuracy:\", test_accuracy)\n"
      ]
    },
    {
      "cell_type": "code",
      "source": [
        "import matplotlib.pyplot as plt\n",
        "import seaborn as sns\n",
        "\n",
        "# Predict classes for training set\n",
        "with torch.no_grad():\n",
        "    train_outputs = model(X_train)\n",
        "    _, train_predicted = torch.max(train_outputs, 1)\n",
        "\n",
        "# Calculate confusion matrix for training set\n",
        "train_cm = confusion_matrix(y_train.numpy(), train_predicted.numpy())\n",
        "\n",
        "# Plot training confusion matrix\n",
        "plt.figure(figsize=(5, 4))\n",
        "sns.heatmap(train_cm, annot=True, cmap='Blues', fmt='g', xticklabels=['cat', 'dog'], yticklabels=['cat', 'dog'])\n",
        "plt.xlabel('Predicted labels')\n",
        "plt.ylabel('True labels')\n",
        "plt.title('Training Confusion Matrix')\n",
        "plt.show()\n",
        "\n",
        "# Predict classes for test set\n",
        "with torch.no_grad():\n",
        "    test_outputs = model(X_test)\n",
        "    _, test_predicted = torch.max(test_outputs, 1)\n",
        "\n",
        "# Calculate confusion matrix for test set\n",
        "test_cm = confusion_matrix(y_test.numpy(), test_predicted.numpy())\n",
        "\n",
        "# Plot testing confusion matrix\n",
        "plt.figure(figsize=(5, 4))\n",
        "sns.heatmap(test_cm, annot=True, cmap='Blues', fmt='g', xticklabels=['cat', 'dog'], yticklabels=['cat', 'dog'])\n",
        "plt.xlabel('Predicted labels')\n",
        "plt.ylabel('True labels')\n",
        "plt.title('Testing Confusion Matrix')\n",
        "plt.show()\n"
      ],
      "metadata": {
        "colab": {
          "base_uri": "https://localhost:8080/",
          "height": 803
        },
        "id": "83TL9GbhAsZD",
        "outputId": "622b0dba-7fa5-467d-997f-c35bf57e0f63"
      },
      "execution_count": null,
      "outputs": [
        {
          "output_type": "display_data",
          "data": {
            "text/plain": [
              "<Figure size 500x400 with 2 Axes>"
            ],
            "image/png": "[encoded data removed]"
          },
          "metadata": {}
        },
        {
          "output_type": "display_data",
          "data": {
            "text/plain": [
              "<Figure size 500x400 with 2 Axes>"
            ],
            "image/png": "[encoded data removed]"
          },
          "metadata": {}
        }
      ]
    },
    {
      "cell_type": "code",
      "source": [
        "import torch\n",
        "import torch.nn as nn\n",
        "import torch.optim as optim\n",
        "from torchvision import transforms\n",
        "from torchvision.models import resnet50\n",
        "from PIL import Image\n",
        "\n",
        "# Define data transformations for the input image\n",
        "data_transform = transforms.Compose([\n",
        "    transforms.Resize((224, 224)),\n",
        "    transforms.ToTensor(),\n",
        "    transforms.Normalize(mean=[0.485, 0.456, 0.406],\n",
        "                         std=[0.229, 0.224, 0.225])\n",
        "])\n",
        "\n",
        "# Load the trained ResNet model\n",
        "resnet_model = resnet50(pretrained=True)\n",
        "resnet_model.fc = nn.Identity()  # Remove the final fully connected layer\n",
        "\n",
        "\n",
        "# Set models to evaluation mode\n",
        "resnet_model.eval()\n",
        "\n",
        "def extract_features(image_path, model):\n",
        "    image = Image.open(image_path)\n",
        "    image = data_transform(image)\n",
        "    image = image.unsqueeze(0)  # Add batch dimension\n",
        "    with torch.no_grad():\n",
        "        features = model(image)\n",
        "    return features.flatten()\n",
        "\n",
        "def predict_image(image_path, resnet_model):\n",
        "    # Extract features using ResNet\n",
        "    features = extract_features(image_path, resnet_model)\n",
        "    features = torch.unsqueeze(features, dim=0)\n",
        "\n",
        "    # Make prediction using MLP\n",
        "    with torch.no_grad():\n",
        "        output = model(features)\n",
        "\n",
        "    _, predicted = torch.max(output, 1)\n",
        "\n",
        "\n",
        "    # Convert numerical label to string label\n",
        "    label = \"cat\" if predicted.item() == 0 else \"dog\"\n",
        "\n",
        "    return label\n",
        "\n",
        "# Input image path\n",
        "image_path = '/content/dog.101.jpg'\n",
        "\n",
        "# Predict the image\n",
        "prediction = predict_image(image_path, resnet_model)\n",
        "print(\"Prediction:\", prediction)\n"
      ],
      "metadata": {
        "colab": {
          "base_uri": "https://localhost:8080/"
        },
        "id": "vrVZqNfxEpyq",
        "outputId": "3cd72f8e-7270-4036-f59c-49f9f41527f7"
      },
      "execution_count": null,
      "outputs": [
        {
          "output_type": "stream",
          "name": "stdout",
          "text": [
            "Prediction: dog\n"
          ]
        }
      ]
    }
  ]
}